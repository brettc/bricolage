{
 "cells": [
  {
   "cell_type": "code",
   "execution_count": 1,
   "metadata": {
    "collapsed": false
   },
   "outputs": [
    {
     "name": "stdout",
     "output_type": "stream",
     "text": [
      "/Users/Brett/Dropbox/SimulationOutput/single_output\n"
     ]
    }
   ],
   "source": [
    "%matplotlib inline\n",
    "%cd \"/Users/Brett/Dropbox/SimulationOutput/single_output/\""
   ]
  },
  {
   "cell_type": "code",
   "execution_count": 3,
   "metadata": {
    "collapsed": true
   },
   "outputs": [],
   "source": [
    "import pandas as pd\n",
    "import seaborn as sb"
   ]
  },
  {
   "cell_type": "code",
   "execution_count": 4,
   "metadata": {
    "collapsed": false
   },
   "outputs": [],
   "source": [
    "speed = pd.read_pickle('./speed.pickle')"
   ]
  },
  {
   "cell_type": "code",
   "execution_count": 5,
   "metadata": {
    "collapsed": false
   },
   "outputs": [
    {
     "data": {
      "text/html": [
       "<div style=\"max-height:1000px;max-width:1500px;overflow:auto;\">\n",
       "<table border=\"1\" class=\"dataframe\">\n",
       "  <thead>\n",
       "    <tr style=\"text-align: right;\">\n",
       "      <th></th>\n",
       "      <th>generations</th>\n",
       "      <th>replicate</th>\n",
       "      <th>treatment</th>\n",
       "      <th>treat</th>\n",
       "    </tr>\n",
       "  </thead>\n",
       "  <tbody>\n",
       "    <tr>\n",
       "      <th>0</th>\n",
       "      <td>   77</td>\n",
       "      <td> 0</td>\n",
       "      <td> 00-(a-and-b)-or-(a-and-c)-or-(b-and-c)</td>\n",
       "      <td> 0</td>\n",
       "    </tr>\n",
       "    <tr>\n",
       "      <th>1</th>\n",
       "      <td>  248</td>\n",
       "      <td> 1</td>\n",
       "      <td> 00-(a-and-b)-or-(a-and-c)-or-(b-and-c)</td>\n",
       "      <td> 0</td>\n",
       "    </tr>\n",
       "    <tr>\n",
       "      <th>2</th>\n",
       "      <td>  466</td>\n",
       "      <td> 2</td>\n",
       "      <td> 00-(a-and-b)-or-(a-and-c)-or-(b-and-c)</td>\n",
       "      <td> 0</td>\n",
       "    </tr>\n",
       "    <tr>\n",
       "      <th>3</th>\n",
       "      <td>   58</td>\n",
       "      <td> 3</td>\n",
       "      <td> 00-(a-and-b)-or-(a-and-c)-or-(b-and-c)</td>\n",
       "      <td> 0</td>\n",
       "    </tr>\n",
       "    <tr>\n",
       "      <th>4</th>\n",
       "      <td> 1156</td>\n",
       "      <td> 4</td>\n",
       "      <td> 00-(a-and-b)-or-(a-and-c)-or-(b-and-c)</td>\n",
       "      <td> 0</td>\n",
       "    </tr>\n",
       "  </tbody>\n",
       "</table>\n",
       "</div>"
      ],
      "text/plain": [
       "   generations  replicate                               treatment  treat\n",
       "0           77          0  00-(a-and-b)-or-(a-and-c)-or-(b-and-c)      0\n",
       "1          248          1  00-(a-and-b)-or-(a-and-c)-or-(b-and-c)      0\n",
       "2          466          2  00-(a-and-b)-or-(a-and-c)-or-(b-and-c)      0\n",
       "3           58          3  00-(a-and-b)-or-(a-and-c)-or-(b-and-c)      0\n",
       "4         1156          4  00-(a-and-b)-or-(a-and-c)-or-(b-and-c)      0"
      ]
     },
     "execution_count": 5,
     "metadata": {},
     "output_type": "execute_result"
    }
   ],
   "source": [
    "speed['treat'] = speed['treatment'].apply(lambda x: int(x[:2]))\n",
    "speed.head()"
   ]
  },
  {
   "cell_type": "code",
   "execution_count": 30,
   "metadata": {
    "collapsed": false
   },
   "outputs": [
    {
     "data": {
      "text/plain": [
       "<matplotlib.axes._subplots.AxesSubplot at 0x10a9363d0>"
      ]
     },
     "execution_count": 30,
     "metadata": {},
     "output_type": "execute_result"
    },
    {
     "data": {
      "image/png": "[encoded data removed]",
      "text/plain": [
       "<matplotlib.figure.Figure at 0x109dae250>"
      ]
     },
     "metadata": {},
     "output_type": "display_data"
    }
   ],
   "source": [
    "sb.boxplot(speed.generations, speed.treat, color=\"Paired\")"
   ]
  },
  {
   "cell_type": "code",
   "execution_count": 36,
   "metadata": {
    "collapsed": false
   },
   "outputs": [
    {
     "data": {
      "text/plain": [
       "count      20.000000\n",
       "mean      165.900000\n",
       "std       278.560378\n",
       "min         1.000000\n",
       "25%        41.750000\n",
       "50%        71.000000\n",
       "75%       155.750000\n",
       "max      1232.000000\n",
       "Name: generations, dtype: float64"
      ]
     },
     "execution_count": 36,
     "metadata": {},
     "output_type": "execute_result"
    }
   ],
   "source": [
    "gb = speed.dropna().groupby('treat')\n",
    "groups = dict(list(gb))\n",
    "groups[14]['generations'].describe()\n"
   ]
  },
  {
   "cell_type": "code",
   "execution_count": null,
   "metadata": {
    "collapsed": true
   },
   "outputs": [],
   "source": []
  }
 ],
 "metadata": {
  "kernelspec": {
   "display_name": "Python 2",
   "language": "python",
   "name": "python2"
  },
  "language_info": {
   "codemirror_mode": {
    "name": "ipython",
    "version": 2
   },
   "file_extension": ".py",
   "mimetype": "text/x-python",
   "name": "python",
   "nbconvert_exporter": "python",
   "pygments_lexer": "ipython2",
   "version": "2.7.9"
  }
 },
 "nbformat": 4,
 "nbformat_minor": 0
}
