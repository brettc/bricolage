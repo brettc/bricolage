{
 "cells": [
  {
   "cell_type": "code",
   "execution_count": 1,
   "metadata": {
    "collapsed": false
   },
   "outputs": [],
   "source": [
    "%matplotlib inline"
   ]
  },
  {
   "cell_type": "code",
   "execution_count": 161,
   "metadata": {
    "collapsed": true
   },
   "outputs": [],
   "source": [
    "import pandas as pd\n",
    "import numpy as np\n",
    "import seaborn as sb\n",
    "from sqlalchemy import create_engine\n",
    "conn = create_engine('sqlite:////Users/brett/Dropbox/SimulationOutput/hierarchy1/stats.sqlite')"
   ]
  },
  {
   "cell_type": "code",
   "execution_count": 162,
   "metadata": {
    "collapsed": false
   },
   "outputs": [
    {
     "data": {
      "text/html": [
       "<div style=\"max-height:1000px;max-width:1500px;overflow:auto;\">\n",
       "<table border=\"1\" class=\"dataframe\">\n",
       "  <thead>\n",
       "    <tr style=\"text-align: right;\">\n",
       "      <th></th>\n",
       "      <th>treatment_id</th>\n",
       "      <th>replicate_id</th>\n",
       "      <th>generation</th>\n",
       "      <th>kind</th>\n",
       "      <th>value</th>\n",
       "    </tr>\n",
       "  </thead>\n",
       "  <tbody>\n",
       "    <tr>\n",
       "      <th>432715</th>\n",
       "      <td>3</td>\n",
       "      <td>20</td>\n",
       "      <td>60000</td>\n",
       "      <td>C_MAX</td>\n",
       "      <td>3.000000</td>\n",
       "    </tr>\n",
       "    <tr>\n",
       "      <th>432716</th>\n",
       "      <td>3</td>\n",
       "      <td>20</td>\n",
       "      <td>60000</td>\n",
       "      <td>C_MXMN</td>\n",
       "      <td>1.904286</td>\n",
       "    </tr>\n",
       "    <tr>\n",
       "      <th>432717</th>\n",
       "      <td>3</td>\n",
       "      <td>20</td>\n",
       "      <td>60000</td>\n",
       "      <td>F_MEAN</td>\n",
       "      <td>0.992179</td>\n",
       "    </tr>\n",
       "    <tr>\n",
       "      <th>432718</th>\n",
       "      <td>3</td>\n",
       "      <td>20</td>\n",
       "      <td>60000</td>\n",
       "      <td>F_VAR</td>\n",
       "      <td>0.001282</td>\n",
       "    </tr>\n",
       "    <tr>\n",
       "      <th>432719</th>\n",
       "      <td>3</td>\n",
       "      <td>20</td>\n",
       "      <td>60000</td>\n",
       "      <td>F_MAX</td>\n",
       "      <td>1.000000</td>\n",
       "    </tr>\n",
       "  </tbody>\n",
       "</table>\n",
       "</div>"
      ],
      "text/plain": [
       "        treatment_id  replicate_id  generation    kind     value\n",
       "432715             3            20       60000   C_MAX  3.000000\n",
       "432716             3            20       60000  C_MXMN  1.904286\n",
       "432717             3            20       60000  F_MEAN  0.992179\n",
       "432718             3            20       60000   F_VAR  0.001282\n",
       "432719             3            20       60000   F_MAX  1.000000"
      ]
     },
     "execution_count": 162,
     "metadata": {},
     "output_type": "execute_result"
    }
   ],
   "source": [
    "q = pd.read_sql_table('stats', conn)\n",
    "q.tail()"
   ]
  },
  {
   "cell_type": "code",
   "execution_count": 163,
   "metadata": {
    "collapsed": false
   },
   "outputs": [],
   "source": [
    "q.set_index(['treatment_id', 'replicate_id', 'generation','kind'], inplace=True)"
   ]
  },
  {
   "cell_type": "code",
   "execution_count": 56,
   "metadata": {
    "collapsed": false
   },
   "outputs": [
    {
     "data": {
      "text/html": [
       "<div style=\"max-height:1000px;max-width:1500px;overflow:auto;\">\n",
       "<table border=\"1\" class=\"dataframe\">\n",
       "  <thead>\n",
       "    <tr style=\"text-align: right;\">\n",
       "      <th></th>\n",
       "      <th></th>\n",
       "      <th></th>\n",
       "      <th></th>\n",
       "      <th>value</th>\n",
       "    </tr>\n",
       "    <tr>\n",
       "      <th>treatment_id</th>\n",
       "      <th>replicate_id</th>\n",
       "      <th>generation</th>\n",
       "      <th>kind</th>\n",
       "      <th></th>\n",
       "    </tr>\n",
       "  </thead>\n",
       "  <tbody>\n",
       "    <tr>\n",
       "      <th rowspan=\"5\" valign=\"top\">3</th>\n",
       "      <th rowspan=\"5\" valign=\"top\">20</th>\n",
       "      <th rowspan=\"5\" valign=\"top\">60000</th>\n",
       "      <th>C_MAX</th>\n",
       "      <td>3.000000</td>\n",
       "    </tr>\n",
       "    <tr>\n",
       "      <th>C_MXMN</th>\n",
       "      <td>1.904286</td>\n",
       "    </tr>\n",
       "    <tr>\n",
       "      <th>F_MEAN</th>\n",
       "      <td>0.992179</td>\n",
       "    </tr>\n",
       "    <tr>\n",
       "      <th>F_VAR</th>\n",
       "      <td>0.001282</td>\n",
       "    </tr>\n",
       "    <tr>\n",
       "      <th>F_MAX</th>\n",
       "      <td>1.000000</td>\n",
       "    </tr>\n",
       "  </tbody>\n",
       "</table>\n",
       "</div>"
      ],
      "text/plain": [
       "                                                value\n",
       "treatment_id replicate_id generation kind            \n",
       "3            20           60000      C_MAX   3.000000\n",
       "                                     C_MXMN  1.904286\n",
       "                                     F_MEAN  0.992179\n",
       "                                     F_VAR   0.001282\n",
       "                                     F_MAX   1.000000"
      ]
     },
     "execution_count": 56,
     "metadata": {},
     "output_type": "execute_result"
    }
   ],
   "source": [
    "q.tail()"
   ]
  },
  {
   "cell_type": "code",
   "execution_count": 57,
   "metadata": {
    "collapsed": false
   },
   "outputs": [],
   "source": [
    "allc = q.unstack(-1)"
   ]
  },
  {
   "cell_type": "code",
   "execution_count": 58,
   "metadata": {
    "collapsed": false
   },
   "outputs": [],
   "source": [
    "allc.columns = allc.columns.levels[1]"
   ]
  },
  {
   "cell_type": "code",
   "execution_count": 59,
   "metadata": {
    "collapsed": false
   },
   "outputs": [
    {
     "data": {
      "text/html": [
       "<div style=\"max-height:1000px;max-width:1500px;overflow:auto;\">\n",
       "<table border=\"1\" class=\"dataframe\">\n",
       "  <thead>\n",
       "    <tr style=\"text-align: right;\">\n",
       "      <th></th>\n",
       "      <th></th>\n",
       "      <th>kind</th>\n",
       "      <th>C_1</th>\n",
       "      <th>C_2</th>\n",
       "      <th>C_3</th>\n",
       "      <th>C_4</th>\n",
       "      <th>C_5</th>\n",
       "      <th>C_6</th>\n",
       "      <th>C_7</th>\n",
       "      <th>C_8</th>\n",
       "      <th>C_MAX</th>\n",
       "      <th>C_MEAN</th>\n",
       "      <th>C_MXMN</th>\n",
       "      <th>F_MAX</th>\n",
       "      <th>F_MEAN</th>\n",
       "      <th>F_VAR</th>\n",
       "    </tr>\n",
       "    <tr>\n",
       "      <th>treatment_id</th>\n",
       "      <th>replicate_id</th>\n",
       "      <th>generation</th>\n",
       "      <th></th>\n",
       "      <th></th>\n",
       "      <th></th>\n",
       "      <th></th>\n",
       "      <th></th>\n",
       "      <th></th>\n",
       "      <th></th>\n",
       "      <th></th>\n",
       "      <th></th>\n",
       "      <th></th>\n",
       "      <th></th>\n",
       "      <th></th>\n",
       "      <th></th>\n",
       "      <th></th>\n",
       "    </tr>\n",
       "  </thead>\n",
       "  <tbody>\n",
       "    <tr>\n",
       "      <th rowspan=\"5\" valign=\"top\">3</th>\n",
       "      <th rowspan=\"5\" valign=\"top\">20</th>\n",
       "      <th>59600</th>\n",
       "      <td>0.000529</td>\n",
       "      <td>0.003863</td>\n",
       "      <td>0.002885</td>\n",
       "      <td>0.412269</td>\n",
       "      <td>0.006085</td>\n",
       "      <td>0.039153</td>\n",
       "      <td>1.936042</td>\n",
       "      <td>0.144654</td>\n",
       "      <td>3</td>\n",
       "      <td>2.545480</td>\n",
       "      <td>1.936042</td>\n",
       "      <td>1</td>\n",
       "      <td>0.993821</td>\n",
       "      <td>0.001015</td>\n",
       "    </tr>\n",
       "    <tr>\n",
       "      <th>59700</th>\n",
       "      <td>0.000795</td>\n",
       "      <td>0.001917</td>\n",
       "      <td>0.004304</td>\n",
       "      <td>0.418753</td>\n",
       "      <td>0.006188</td>\n",
       "      <td>0.034953</td>\n",
       "      <td>1.926251</td>\n",
       "      <td>0.133622</td>\n",
       "      <td>3</td>\n",
       "      <td>2.526783</td>\n",
       "      <td>1.926251</td>\n",
       "      <td>1</td>\n",
       "      <td>0.993525</td>\n",
       "      <td>0.001037</td>\n",
       "    </tr>\n",
       "    <tr>\n",
       "      <th>59800</th>\n",
       "      <td>0.000091</td>\n",
       "      <td>0.001604</td>\n",
       "      <td>0.004193</td>\n",
       "      <td>0.418779</td>\n",
       "      <td>0.003773</td>\n",
       "      <td>0.036747</td>\n",
       "      <td>1.909650</td>\n",
       "      <td>0.142927</td>\n",
       "      <td>3</td>\n",
       "      <td>2.517765</td>\n",
       "      <td>1.909650</td>\n",
       "      <td>1</td>\n",
       "      <td>0.994016</td>\n",
       "      <td>0.000789</td>\n",
       "    </tr>\n",
       "    <tr>\n",
       "      <th>59900</th>\n",
       "      <td>0.002064</td>\n",
       "      <td>0.000036</td>\n",
       "      <td>0.003135</td>\n",
       "      <td>0.420631</td>\n",
       "      <td>0.001334</td>\n",
       "      <td>0.033253</td>\n",
       "      <td>1.910622</td>\n",
       "      <td>0.119711</td>\n",
       "      <td>3</td>\n",
       "      <td>2.490787</td>\n",
       "      <td>1.910622</td>\n",
       "      <td>1</td>\n",
       "      <td>0.994513</td>\n",
       "      <td>0.000889</td>\n",
       "    </tr>\n",
       "    <tr>\n",
       "      <th>60000</th>\n",
       "      <td>0.003161</td>\n",
       "      <td>0.000582</td>\n",
       "      <td>0.002258</td>\n",
       "      <td>0.420829</td>\n",
       "      <td>0.000305</td>\n",
       "      <td>0.034111</td>\n",
       "      <td>1.904286</td>\n",
       "      <td>0.109380</td>\n",
       "      <td>3</td>\n",
       "      <td>2.474910</td>\n",
       "      <td>1.904286</td>\n",
       "      <td>1</td>\n",
       "      <td>0.992179</td>\n",
       "      <td>0.001282</td>\n",
       "    </tr>\n",
       "  </tbody>\n",
       "</table>\n",
       "</div>"
      ],
      "text/plain": [
       "kind                                       C_1       C_2       C_3       C_4  \\\n",
       "treatment_id replicate_id generation                                           \n",
       "3            20           59600       0.000529  0.003863  0.002885  0.412269   \n",
       "                          59700       0.000795  0.001917  0.004304  0.418753   \n",
       "                          59800       0.000091  0.001604  0.004193  0.418779   \n",
       "                          59900       0.002064  0.000036  0.003135  0.420631   \n",
       "                          60000       0.003161  0.000582  0.002258  0.420829   \n",
       "\n",
       "kind                                       C_5       C_6       C_7       C_8  \\\n",
       "treatment_id replicate_id generation                                           \n",
       "3            20           59600       0.006085  0.039153  1.936042  0.144654   \n",
       "                          59700       0.006188  0.034953  1.926251  0.133622   \n",
       "                          59800       0.003773  0.036747  1.909650  0.142927   \n",
       "                          59900       0.001334  0.033253  1.910622  0.119711   \n",
       "                          60000       0.000305  0.034111  1.904286  0.109380   \n",
       "\n",
       "kind                                  C_MAX    C_MEAN    C_MXMN  F_MAX  \\\n",
       "treatment_id replicate_id generation                                     \n",
       "3            20           59600           3  2.545480  1.936042      1   \n",
       "                          59700           3  2.526783  1.926251      1   \n",
       "                          59800           3  2.517765  1.909650      1   \n",
       "                          59900           3  2.490787  1.910622      1   \n",
       "                          60000           3  2.474910  1.904286      1   \n",
       "\n",
       "kind                                    F_MEAN     F_VAR  \n",
       "treatment_id replicate_id generation                      \n",
       "3            20           59600       0.993821  0.001015  \n",
       "                          59700       0.993525  0.001037  \n",
       "                          59800       0.994016  0.000789  \n",
       "                          59900       0.994513  0.000889  \n",
       "                          60000       0.992179  0.001282  "
      ]
     },
     "execution_count": 59,
     "metadata": {},
     "output_type": "execute_result"
    }
   ],
   "source": [
    "allc.tail()"
   ]
  },
  {
   "cell_type": "code",
   "execution_count": 164,
   "metadata": {
    "collapsed": false
   },
   "outputs": [],
   "source": [
    "def get_treat_rep(t, r):\n",
    "    return allc.groupby(level=[0,1]).get_group((t,r)).reset_index([0, 1]).drop('treatment_id', axis=1).drop('replicate_id', axis=1)"
   ]
  },
  {
   "cell_type": "code",
   "execution_count": 167,
   "metadata": {
    "collapsed": false
   },
   "outputs": [
    {
     "data": {
      "text/plain": [
       "array([<matplotlib.axes._subplots.AxesSubplot object at 0x1212d9fd0>,\n",
       "       <matplotlib.axes._subplots.AxesSubplot object at 0x12157cad0>,\n",
       "       <matplotlib.axes._subplots.AxesSubplot object at 0x121754910>], dtype=object)"
      ]
     },
     "execution_count": 167,
     "metadata": {},
     "output_type": "execute_result"
    },
    {
     "data": {
      "image/png": "[encoded data removed]",
      "text/plain": [
       "<matplotlib.figure.Figure at 0x11f44ea50>"
      ]
     },
     "metadata": {},
     "output_type": "display_data"
    }
   ],
   "source": [
    "t1r1 = get_treat_rep(3, 16)\n",
    "pd.rolling_mean(t1r1[['C_MAX', 'F_MEAN', 'C_MXMN']], 20).plot(subplots=True)"
   ]
  },
  {
   "cell_type": "code",
   "execution_count": 61,
   "metadata": {
    "collapsed": false
   },
   "outputs": [
    {
     "data": {
      "text/html": [
       "<div style=\"max-height:1000px;max-width:1500px;overflow:auto;\">\n",
       "<table border=\"1\" class=\"dataframe\">\n",
       "  <thead>\n",
       "    <tr style=\"text-align: right;\">\n",
       "      <th></th>\n",
       "      <th></th>\n",
       "      <th>value</th>\n",
       "    </tr>\n",
       "    <tr>\n",
       "      <th>generation</th>\n",
       "      <th>kind</th>\n",
       "      <th></th>\n",
       "    </tr>\n",
       "  </thead>\n",
       "  <tbody>\n",
       "    <tr>\n",
       "      <th rowspan=\"5\" valign=\"top\">60000</th>\n",
       "      <th>C_MEAN</th>\n",
       "      <td>2.972532</td>\n",
       "    </tr>\n",
       "    <tr>\n",
       "      <th>C_MXMN</th>\n",
       "      <td>2.947299</td>\n",
       "    </tr>\n",
       "    <tr>\n",
       "      <th>F_MAX</th>\n",
       "      <td>1.000000</td>\n",
       "    </tr>\n",
       "    <tr>\n",
       "      <th>F_MEAN</th>\n",
       "      <td>0.995371</td>\n",
       "    </tr>\n",
       "    <tr>\n",
       "      <th>F_VAR</th>\n",
       "      <td>0.000923</td>\n",
       "    </tr>\n",
       "  </tbody>\n",
       "</table>\n",
       "</div>"
      ],
      "text/plain": [
       "                      value\n",
       "generation kind            \n",
       "60000      C_MEAN  2.972532\n",
       "           C_MXMN  2.947299\n",
       "           F_MAX   1.000000\n",
       "           F_MEAN  0.995371\n",
       "           F_VAR   0.000923"
      ]
     },
     "execution_count": 61,
     "metadata": {},
     "output_type": "execute_result"
    }
   ],
   "source": [
    "z = pd.read_sql_query('select generation, kind, value from stats where treatment_id = 2 and replicate_id = 5', conn, index_col=['generation', 'kind'])\n",
    "z.tail()"
   ]
  },
  {
   "cell_type": "code",
   "execution_count": 74,
   "metadata": {
    "collapsed": false
   },
   "outputs": [
    {
     "data": {
      "text/html": [
       "<div style=\"max-height:1000px;max-width:1500px;overflow:auto;\">\n",
       "<table border=\"1\" class=\"dataframe\">\n",
       "  <thead>\n",
       "    <tr>\n",
       "      <th></th>\n",
       "      <th colspan=\"12\" halign=\"left\">value</th>\n",
       "    </tr>\n",
       "    <tr>\n",
       "      <th>kind</th>\n",
       "      <th>C_1</th>\n",
       "      <th>C_2</th>\n",
       "      <th>C_3</th>\n",
       "      <th>C_4</th>\n",
       "      <th>C_5</th>\n",
       "      <th>C_6</th>\n",
       "      <th>C_MAX</th>\n",
       "      <th>C_MEAN</th>\n",
       "      <th>C_MXMN</th>\n",
       "      <th>F_MAX</th>\n",
       "      <th>F_MEAN</th>\n",
       "      <th>F_VAR</th>\n",
       "    </tr>\n",
       "    <tr>\n",
       "      <th>generation</th>\n",
       "      <th></th>\n",
       "      <th></th>\n",
       "      <th></th>\n",
       "      <th></th>\n",
       "      <th></th>\n",
       "      <th></th>\n",
       "      <th></th>\n",
       "      <th></th>\n",
       "      <th></th>\n",
       "      <th></th>\n",
       "      <th></th>\n",
       "      <th></th>\n",
       "    </tr>\n",
       "  </thead>\n",
       "  <tbody>\n",
       "    <tr>\n",
       "      <th>59600</th>\n",
       "      <td>0.008597</td>\n",
       "      <td>2.975538</td>\n",
       "      <td>0.001142</td>\n",
       "      <td>0.000062</td>\n",
       "      <td>0.000253</td>\n",
       "      <td>0.000006</td>\n",
       "      <td>3</td>\n",
       "      <td>2.985598</td>\n",
       "      <td>2.975538</td>\n",
       "      <td>1</td>\n",
       "      <td>0.994416</td>\n",
       "      <td>0.001098</td>\n",
       "    </tr>\n",
       "    <tr>\n",
       "      <th>59700</th>\n",
       "      <td>0.006562</td>\n",
       "      <td>2.979249</td>\n",
       "      <td>0.003151</td>\n",
       "      <td>0.000065</td>\n",
       "      <td>0.002560</td>\n",
       "      <td>0.000722</td>\n",
       "      <td>3</td>\n",
       "      <td>2.992309</td>\n",
       "      <td>2.979249</td>\n",
       "      <td>1</td>\n",
       "      <td>0.995263</td>\n",
       "      <td>0.000885</td>\n",
       "    </tr>\n",
       "    <tr>\n",
       "      <th>59800</th>\n",
       "      <td>0.006074</td>\n",
       "      <td>2.976447</td>\n",
       "      <td>0.001253</td>\n",
       "      <td>0.000092</td>\n",
       "      <td>0.000761</td>\n",
       "      <td>0.000026</td>\n",
       "      <td>3</td>\n",
       "      <td>2.984653</td>\n",
       "      <td>2.976447</td>\n",
       "      <td>1</td>\n",
       "      <td>0.995042</td>\n",
       "      <td>0.000942</td>\n",
       "    </tr>\n",
       "    <tr>\n",
       "      <th>59900</th>\n",
       "      <td>0.010209</td>\n",
       "      <td>2.960912</td>\n",
       "      <td>0.005512</td>\n",
       "      <td>0.000015</td>\n",
       "      <td>0.006122</td>\n",
       "      <td>0.000382</td>\n",
       "      <td>3</td>\n",
       "      <td>2.983152</td>\n",
       "      <td>2.960912</td>\n",
       "      <td>1</td>\n",
       "      <td>0.994888</td>\n",
       "      <td>0.000867</td>\n",
       "    </tr>\n",
       "    <tr>\n",
       "      <th>60000</th>\n",
       "      <td>0.011296</td>\n",
       "      <td>2.947299</td>\n",
       "      <td>0.005999</td>\n",
       "      <td>0.000596</td>\n",
       "      <td>0.006757</td>\n",
       "      <td>0.000584</td>\n",
       "      <td>3</td>\n",
       "      <td>2.972532</td>\n",
       "      <td>2.947299</td>\n",
       "      <td>1</td>\n",
       "      <td>0.995371</td>\n",
       "      <td>0.000923</td>\n",
       "    </tr>\n",
       "  </tbody>\n",
       "</table>\n",
       "</div>"
      ],
      "text/plain": [
       "               value                                                          \\\n",
       "kind             C_1       C_2       C_3       C_4       C_5       C_6 C_MAX   \n",
       "generation                                                                     \n",
       "59600       0.008597  2.975538  0.001142  0.000062  0.000253  0.000006     3   \n",
       "59700       0.006562  2.979249  0.003151  0.000065  0.002560  0.000722     3   \n",
       "59800       0.006074  2.976447  0.001253  0.000092  0.000761  0.000026     3   \n",
       "59900       0.010209  2.960912  0.005512  0.000015  0.006122  0.000382     3   \n",
       "60000       0.011296  2.947299  0.005999  0.000596  0.006757  0.000584     3   \n",
       "\n",
       "                                                          \n",
       "kind          C_MEAN    C_MXMN F_MAX    F_MEAN     F_VAR  \n",
       "generation                                                \n",
       "59600       2.985598  2.975538     1  0.994416  0.001098  \n",
       "59700       2.992309  2.979249     1  0.995263  0.000885  \n",
       "59800       2.984653  2.976447     1  0.995042  0.000942  \n",
       "59900       2.983152  2.960912     1  0.994888  0.000867  \n",
       "60000       2.972532  2.947299     1  0.995371  0.000923  "
      ]
     },
     "execution_count": 74,
     "metadata": {},
     "output_type": "execute_result"
    }
   ],
   "source": [
    "zz = z.unstack(-1)\n",
    "zz.tail()"
   ]
  },
  {
   "cell_type": "code",
   "execution_count": 75,
   "metadata": {
    "collapsed": false
   },
   "outputs": [],
   "source": [
    "zz.columns = zz.columns.levels[1]"
   ]
  },
  {
   "cell_type": "code",
   "execution_count": 80,
   "metadata": {
    "collapsed": false
   },
   "outputs": [
    {
     "data": {
      "text/plain": [
       "<matplotlib.axes._subplots.AxesSubplot at 0x10dad7790>"
      ]
     },
     "execution_count": 80,
     "metadata": {},
     "output_type": "execute_result"
    },
    {
     "data": {
      "image/png": "[encoded data removed]",
      "text/plain": [
       "<matplotlib.figure.Figure at 0x10ea30f50>"
      ]
     },
     "metadata": {},
     "output_type": "display_data"
    }
   ],
   "source": [
    "zz.plot(y=['C_%d' % (i+1) for i in range(6)])"
   ]
  },
  {
   "cell_type": "code",
   "execution_count": 77,
   "metadata": {
    "collapsed": false
   },
   "outputs": [
    {
     "data": {
      "text/plain": [
       "array([<matplotlib.axes._subplots.AxesSubplot object at 0x10d68d090>,\n",
       "       <matplotlib.axes._subplots.AxesSubplot object at 0x10d581a50>,\n",
       "       <matplotlib.axes._subplots.AxesSubplot object at 0x10d866e50>], dtype=object)"
      ]
     },
     "execution_count": 77,
     "metadata": {},
     "output_type": "execute_result"
    },
    {
     "data": {
      "image/png": "[encoded data removed]",
      "text/plain": [
       "<matplotlib.figure.Figure at 0x10ea015d0>"
      ]
     },
     "metadata": {},
     "output_type": "display_data"
    }
   ],
   "source": [
    "zz.plot(y=[\"F_MEAN\", \"C_MAX\", \"C_MXMN\"], subplots=True)"
   ]
  },
  {
   "cell_type": "code",
   "execution_count": 78,
   "metadata": {
    "collapsed": false
   },
   "outputs": [],
   "source": [
    "finals = pd.read_sql_query('select treatment_id, value from stats where generation = 10000 and kind = \"F_MEAN\"', conn)"
   ]
  },
  {
   "cell_type": "code",
   "execution_count": 79,
   "metadata": {
    "collapsed": false
   },
   "outputs": [
    {
     "data": {
      "text/html": [
       "<div style=\"max-height:1000px;max-width:1500px;overflow:auto;\">\n",
       "<table border=\"1\" class=\"dataframe\">\n",
       "  <thead>\n",
       "    <tr style=\"text-align: right;\">\n",
       "      <th></th>\n",
       "      <th>treatment_id</th>\n",
       "      <th>value</th>\n",
       "    </tr>\n",
       "  </thead>\n",
       "  <tbody>\n",
       "    <tr>\n",
       "      <th>55</th>\n",
       "      <td>3</td>\n",
       "      <td>0.990740</td>\n",
       "    </tr>\n",
       "    <tr>\n",
       "      <th>56</th>\n",
       "      <td>3</td>\n",
       "      <td>0.992758</td>\n",
       "    </tr>\n",
       "    <tr>\n",
       "      <th>57</th>\n",
       "      <td>3</td>\n",
       "      <td>0.994079</td>\n",
       "    </tr>\n",
       "    <tr>\n",
       "      <th>58</th>\n",
       "      <td>3</td>\n",
       "      <td>0.992493</td>\n",
       "    </tr>\n",
       "    <tr>\n",
       "      <th>59</th>\n",
       "      <td>3</td>\n",
       "      <td>0.991354</td>\n",
       "    </tr>\n",
       "  </tbody>\n",
       "</table>\n",
       "</div>"
      ],
      "text/plain": [
       "    treatment_id     value\n",
       "55             3  0.990740\n",
       "56             3  0.992758\n",
       "57             3  0.994079\n",
       "58             3  0.992493\n",
       "59             3  0.991354"
      ]
     },
     "execution_count": 79,
     "metadata": {},
     "output_type": "execute_result"
    }
   ],
   "source": [
    "finals.tail()"
   ]
  },
  {
   "cell_type": "code",
   "execution_count": 71,
   "metadata": {
    "collapsed": false
   },
   "outputs": [
    {
     "data": {
      "text/plain": [
       "<matplotlib.axes._subplots.AxesSubplot at 0x10f120b90>"
      ]
     },
     "execution_count": 71,
     "metadata": {},
     "output_type": "execute_result"
    },
    {
     "data": {
      "image/png": "[encoded data removed]",
      "text/plain": [
       "<matplotlib.figure.Figure at 0x10f137a90>"
      ]
     },
     "metadata": {},
     "output_type": "display_data"
    }
   ],
   "source": [
    "finals.boxplot(column='value',by='treatment_id')"
   ]
  },
  {
   "cell_type": "code",
   "execution_count": 63,
   "metadata": {
    "collapsed": false
   },
   "outputs": [
    {
     "data": {
      "text/html": [
       "<div style=\"max-height:1000px;max-width:1500px;overflow:auto;\">\n",
       "<table border=\"1\" class=\"dataframe\">\n",
       "  <thead>\n",
       "    <tr style=\"text-align: right;\">\n",
       "      <th></th>\n",
       "      <th>value</th>\n",
       "    </tr>\n",
       "    <tr>\n",
       "      <th>name</th>\n",
       "      <th></th>\n",
       "    </tr>\n",
       "  </thead>\n",
       "  <tbody>\n",
       "    <tr>\n",
       "      <th>output_1</th>\n",
       "      <td>20</td>\n",
       "    </tr>\n",
       "    <tr>\n",
       "      <th>output_2</th>\n",
       "      <td>20</td>\n",
       "    </tr>\n",
       "    <tr>\n",
       "      <th>output_3</th>\n",
       "      <td>20</td>\n",
       "    </tr>\n",
       "    <tr>\n",
       "      <th>output_4</th>\n",
       "      <td>20</td>\n",
       "    </tr>\n",
       "  </tbody>\n",
       "</table>\n",
       "</div>"
      ],
      "text/plain": [
       "          value\n",
       "name           \n",
       "output_1     20\n",
       "output_2     20\n",
       "output_3     20\n",
       "output_4     20"
      ]
     },
     "execution_count": 63,
     "metadata": {},
     "output_type": "execute_result"
    }
   ],
   "source": [
    "finals.groupby('name').count()"
   ]
  }
 ],
 "metadata": {
  "kernelspec": {
   "display_name": "Python 2",
   "language": "python",
   "name": "python2"
  },
  "language_info": {
   "codemirror_mode": {
    "name": "ipython",
    "version": 2
   },
   "file_extension": ".py",
   "mimetype": "text/x-python",
   "name": "python",
   "nbconvert_exporter": "python",
   "pygments_lexer": "ipython2",
   "version": "2.7.10"
  }
 },
 "nbformat": 4,
 "nbformat_minor": 0
}
