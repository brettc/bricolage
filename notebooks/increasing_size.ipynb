{
 "cells": [
  {
   "cell_type": "code",
   "execution_count": 1,
   "metadata": {
    "collapsed": false
   },
   "outputs": [],
   "source": [
    "%matplotlib inline"
   ]
  },
  {
   "cell_type": "code",
   "execution_count": 2,
   "metadata": {
    "collapsed": true
   },
   "outputs": [],
   "source": [
    "import pandas as pd\n",
    "import seaborn as sb\n",
    "from sqlalchemy import create_engine\n",
    "conn = create_engine('sqlite:////Users/brett/Dropbox/SimulationOutput/increasing_size/stats.sqlite')"
   ]
  },
  {
   "cell_type": "code",
   "execution_count": 3,
   "metadata": {
    "collapsed": false
   },
   "outputs": [
    {
     "data": {
      "text/html": [
       "<div style=\"max-height:1000px;max-width:1500px;overflow:auto;\">\n",
       "<table border=\"1\" class=\"dataframe\">\n",
       "  <thead>\n",
       "    <tr style=\"text-align: right;\">\n",
       "      <th></th>\n",
       "      <th>treatment_id</th>\n",
       "      <th>replicate_id</th>\n",
       "      <th>generation</th>\n",
       "      <th>kind</th>\n",
       "      <th>value</th>\n",
       "    </tr>\n",
       "  </thead>\n",
       "  <tbody>\n",
       "    <tr>\n",
       "      <th>52705</th>\n",
       "      <td>1</td>\n",
       "      <td>19</td>\n",
       "      <td>50000</td>\n",
       "      <td>C_5</td>\n",
       "      <td>1.364954</td>\n",
       "    </tr>\n",
       "    <tr>\n",
       "      <th>52706</th>\n",
       "      <td>1</td>\n",
       "      <td>19</td>\n",
       "      <td>50000</td>\n",
       "      <td>C_6</td>\n",
       "      <td>0.007005</td>\n",
       "    </tr>\n",
       "    <tr>\n",
       "      <th>52707</th>\n",
       "      <td>1</td>\n",
       "      <td>19</td>\n",
       "      <td>50000</td>\n",
       "      <td>C_7</td>\n",
       "      <td>0.001257</td>\n",
       "    </tr>\n",
       "    <tr>\n",
       "      <th>52708</th>\n",
       "      <td>1</td>\n",
       "      <td>19</td>\n",
       "      <td>50000</td>\n",
       "      <td>C_AVE</td>\n",
       "      <td>6.444593</td>\n",
       "    </tr>\n",
       "    <tr>\n",
       "      <th>52709</th>\n",
       "      <td>1</td>\n",
       "      <td>19</td>\n",
       "      <td>50000</td>\n",
       "      <td>C_MAX</td>\n",
       "      <td>3.652015</td>\n",
       "    </tr>\n",
       "  </tbody>\n",
       "</table>\n",
       "</div>"
      ],
      "text/plain": [
       "       treatment_id  replicate_id  generation   kind     value\n",
       "52705             1            19       50000    C_5  1.364954\n",
       "52706             1            19       50000    C_6  0.007005\n",
       "52707             1            19       50000    C_7  0.001257\n",
       "52708             1            19       50000  C_AVE  6.444593\n",
       "52709             1            19       50000  C_MAX  3.652015"
      ]
     },
     "execution_count": 3,
     "metadata": {},
     "output_type": "execute_result"
    }
   ],
   "source": [
    "q = pd.read_sql_table('stats', conn)\n",
    "q.tail()"
   ]
  },
  {
   "cell_type": "code",
   "execution_count": 4,
   "metadata": {
    "collapsed": false
   },
   "outputs": [],
   "source": [
    "q.set_index(['treatment_id', 'replicate_id', 'generation','kind'], inplace=True)"
   ]
  },
  {
   "cell_type": "code",
   "execution_count": 5,
   "metadata": {
    "collapsed": false
   },
   "outputs": [
    {
     "data": {
      "text/html": [
       "<div style=\"max-height:1000px;max-width:1500px;overflow:auto;\">\n",
       "<table border=\"1\" class=\"dataframe\">\n",
       "  <thead>\n",
       "    <tr style=\"text-align: right;\">\n",
       "      <th></th>\n",
       "      <th></th>\n",
       "      <th></th>\n",
       "      <th></th>\n",
       "      <th>value</th>\n",
       "    </tr>\n",
       "    <tr>\n",
       "      <th>treatment_id</th>\n",
       "      <th>replicate_id</th>\n",
       "      <th>generation</th>\n",
       "      <th>kind</th>\n",
       "      <th></th>\n",
       "    </tr>\n",
       "  </thead>\n",
       "  <tbody>\n",
       "    <tr>\n",
       "      <th rowspan=\"5\" valign=\"top\">1</th>\n",
       "      <th rowspan=\"5\" valign=\"top\">19</th>\n",
       "      <th rowspan=\"5\" valign=\"top\">50000</th>\n",
       "      <th>C_5</th>\n",
       "      <td>1.364954</td>\n",
       "    </tr>\n",
       "    <tr>\n",
       "      <th>C_6</th>\n",
       "      <td>0.007005</td>\n",
       "    </tr>\n",
       "    <tr>\n",
       "      <th>C_7</th>\n",
       "      <td>0.001257</td>\n",
       "    </tr>\n",
       "    <tr>\n",
       "      <th>C_AVE</th>\n",
       "      <td>6.444593</td>\n",
       "    </tr>\n",
       "    <tr>\n",
       "      <th>C_MAX</th>\n",
       "      <td>3.652015</td>\n",
       "    </tr>\n",
       "  </tbody>\n",
       "</table>\n",
       "</div>"
      ],
      "text/plain": [
       "                                               value\n",
       "treatment_id replicate_id generation kind           \n",
       "1            19           50000      C_5    1.364954\n",
       "                                     C_6    0.007005\n",
       "                                     C_7    0.001257\n",
       "                                     C_AVE  6.444593\n",
       "                                     C_MAX  3.652015"
      ]
     },
     "execution_count": 5,
     "metadata": {},
     "output_type": "execute_result"
    }
   ],
   "source": [
    "q.tail()"
   ]
  },
  {
   "cell_type": "code",
   "execution_count": 6,
   "metadata": {
    "collapsed": false
   },
   "outputs": [
    {
     "data": {
      "text/html": [
       "<div style=\"max-height:1000px;max-width:1500px;overflow:auto;\">\n",
       "<table border=\"1\" class=\"dataframe\">\n",
       "  <thead>\n",
       "    <tr style=\"text-align: right;\">\n",
       "      <th></th>\n",
       "      <th></th>\n",
       "      <th>value</th>\n",
       "    </tr>\n",
       "    <tr>\n",
       "      <th>generation</th>\n",
       "      <th>kind</th>\n",
       "      <th></th>\n",
       "    </tr>\n",
       "  </thead>\n",
       "  <tbody>\n",
       "    <tr>\n",
       "      <th rowspan=\"5\" valign=\"top\">50000</th>\n",
       "      <th>C_5</th>\n",
       "      <td>0.000049</td>\n",
       "    </tr>\n",
       "    <tr>\n",
       "      <th>C_6</th>\n",
       "      <td>0.000830</td>\n",
       "    </tr>\n",
       "    <tr>\n",
       "      <th>C_7</th>\n",
       "      <td>0.015202</td>\n",
       "    </tr>\n",
       "    <tr>\n",
       "      <th>C_AVE</th>\n",
       "      <td>3.966159</td>\n",
       "    </tr>\n",
       "    <tr>\n",
       "      <th>C_MAX</th>\n",
       "      <td>3.950018</td>\n",
       "    </tr>\n",
       "  </tbody>\n",
       "</table>\n",
       "</div>"
      ],
      "text/plain": [
       "                     value\n",
       "generation kind           \n",
       "50000      C_5    0.000049\n",
       "           C_6    0.000830\n",
       "           C_7    0.015202\n",
       "           C_AVE  3.966159\n",
       "           C_MAX  3.950018"
      ]
     },
     "execution_count": 6,
     "metadata": {},
     "output_type": "execute_result"
    }
   ],
   "source": [
    "z = pd.read_sql_query('select generation, kind, value from stats where treatment_id = 1 and replicate_id = 1', conn, index_col=['generation', 'kind'])\n",
    "z.tail()"
   ]
  },
  {
   "cell_type": "code",
   "execution_count": 7,
   "metadata": {
    "collapsed": false
   },
   "outputs": [
    {
     "data": {
      "text/html": [
       "<div style=\"max-height:1000px;max-width:1500px;overflow:auto;\">\n",
       "<table border=\"1\" class=\"dataframe\">\n",
       "  <thead>\n",
       "    <tr>\n",
       "      <th></th>\n",
       "      <th colspan=\"11\" halign=\"left\">value</th>\n",
       "    </tr>\n",
       "    <tr>\n",
       "      <th>kind</th>\n",
       "      <th>CT</th>\n",
       "      <th>C_0</th>\n",
       "      <th>C_1</th>\n",
       "      <th>C_2</th>\n",
       "      <th>C_3</th>\n",
       "      <th>C_4</th>\n",
       "      <th>C_5</th>\n",
       "      <th>C_6</th>\n",
       "      <th>C_7</th>\n",
       "      <th>C_AVE</th>\n",
       "      <th>C_MAX</th>\n",
       "    </tr>\n",
       "    <tr>\n",
       "      <th>generation</th>\n",
       "      <th></th>\n",
       "      <th></th>\n",
       "      <th></th>\n",
       "      <th></th>\n",
       "      <th></th>\n",
       "      <th></th>\n",
       "      <th></th>\n",
       "      <th></th>\n",
       "      <th></th>\n",
       "      <th></th>\n",
       "      <th></th>\n",
       "    </tr>\n",
       "  </thead>\n",
       "  <tbody>\n",
       "    <tr>\n",
       "      <th>49200</th>\n",
       "      <td>3.941912</td>\n",
       "      <td>3.908285</td>\n",
       "      <td>0.000000</td>\n",
       "      <td>0.000034</td>\n",
       "      <td>0.001491</td>\n",
       "      <td>0.002033</td>\n",
       "      <td>0.000000</td>\n",
       "      <td>0.014550</td>\n",
       "      <td>0.015519</td>\n",
       "      <td>3.941912</td>\n",
       "      <td>3.908285</td>\n",
       "    </tr>\n",
       "    <tr>\n",
       "      <th>49400</th>\n",
       "      <td>3.923069</td>\n",
       "      <td>3.879494</td>\n",
       "      <td>0.000195</td>\n",
       "      <td>0.000000</td>\n",
       "      <td>0.000011</td>\n",
       "      <td>0.003113</td>\n",
       "      <td>0.002072</td>\n",
       "      <td>0.004133</td>\n",
       "      <td>0.034051</td>\n",
       "      <td>3.923069</td>\n",
       "      <td>3.879494</td>\n",
       "    </tr>\n",
       "    <tr>\n",
       "      <th>49600</th>\n",
       "      <td>3.956465</td>\n",
       "      <td>3.925731</td>\n",
       "      <td>0.000000</td>\n",
       "      <td>0.000491</td>\n",
       "      <td>0.000000</td>\n",
       "      <td>0.001868</td>\n",
       "      <td>0.000934</td>\n",
       "      <td>0.001223</td>\n",
       "      <td>0.026218</td>\n",
       "      <td>3.956465</td>\n",
       "      <td>3.925731</td>\n",
       "    </tr>\n",
       "    <tr>\n",
       "      <th>49800</th>\n",
       "      <td>3.953556</td>\n",
       "      <td>3.939313</td>\n",
       "      <td>0.000204</td>\n",
       "      <td>0.000089</td>\n",
       "      <td>0.000000</td>\n",
       "      <td>0.002095</td>\n",
       "      <td>0.000000</td>\n",
       "      <td>0.000329</td>\n",
       "      <td>0.011525</td>\n",
       "      <td>3.953556</td>\n",
       "      <td>3.939313</td>\n",
       "    </tr>\n",
       "    <tr>\n",
       "      <th>50000</th>\n",
       "      <td>3.966159</td>\n",
       "      <td>3.950018</td>\n",
       "      <td>0.000000</td>\n",
       "      <td>0.000049</td>\n",
       "      <td>0.000011</td>\n",
       "      <td>0.000000</td>\n",
       "      <td>0.000049</td>\n",
       "      <td>0.000830</td>\n",
       "      <td>0.015202</td>\n",
       "      <td>3.966159</td>\n",
       "      <td>3.950018</td>\n",
       "    </tr>\n",
       "  </tbody>\n",
       "</table>\n",
       "</div>"
      ],
      "text/plain": [
       "               value                                                    \\\n",
       "kind              CT       C_0       C_1       C_2       C_3       C_4   \n",
       "generation                                                               \n",
       "49200       3.941912  3.908285  0.000000  0.000034  0.001491  0.002033   \n",
       "49400       3.923069  3.879494  0.000195  0.000000  0.000011  0.003113   \n",
       "49600       3.956465  3.925731  0.000000  0.000491  0.000000  0.001868   \n",
       "49800       3.953556  3.939313  0.000204  0.000089  0.000000  0.002095   \n",
       "50000       3.966159  3.950018  0.000000  0.000049  0.000011  0.000000   \n",
       "\n",
       "                                                              \n",
       "kind             C_5       C_6       C_7     C_AVE     C_MAX  \n",
       "generation                                                    \n",
       "49200       0.000000  0.014550  0.015519  3.941912  3.908285  \n",
       "49400       0.002072  0.004133  0.034051  3.923069  3.879494  \n",
       "49600       0.000934  0.001223  0.026218  3.956465  3.925731  \n",
       "49800       0.000000  0.000329  0.011525  3.953556  3.939313  \n",
       "50000       0.000049  0.000830  0.015202  3.966159  3.950018  "
      ]
     },
     "execution_count": 7,
     "metadata": {},
     "output_type": "execute_result"
    }
   ],
   "source": [
    "zz = z.unstack(-1)\n",
    "zz.tail()"
   ]
  },
  {
   "cell_type": "code",
   "execution_count": 8,
   "metadata": {
    "collapsed": false
   },
   "outputs": [],
   "source": [
    "zz.columns = zz.columns.levels[1]"
   ]
  },
  {
   "cell_type": "code",
   "execution_count": 12,
   "metadata": {
    "collapsed": false
   },
   "outputs": [
    {
     "data": {
      "text/plain": [
       "<matplotlib.axes._subplots.AxesSubplot at 0x10a202350>"
      ]
     },
     "execution_count": 12,
     "metadata": {},
     "output_type": "execute_result"
    },
    {
     "data": {
      "image/png": "[encoded data removed]",
      "text/plain": [
       "<matplotlib.figure.Figure at 0x10a5b6f90>"
      ]
     },
     "metadata": {},
     "output_type": "display_data"
    }
   ],
   "source": [
    "zz.dropna(0).plot(y=['C_%d' % i for i in range(7)])"
   ]
  },
  {
   "cell_type": "code",
   "execution_count": 28,
   "metadata": {
    "collapsed": false
   },
   "outputs": [],
   "source": [
    "finals = pd.read_sql_query('select generation, value from stats where generation in (10000,20000, 30000, 40000, 50000) and kind = \"C_MAX\"', conn)"
   ]
  },
  {
   "cell_type": "code",
   "execution_count": 29,
   "metadata": {
    "collapsed": false
   },
   "outputs": [
    {
     "data": {
      "text/html": [
       "<div style=\"max-height:1000px;max-width:1500px;overflow:auto;\">\n",
       "<table border=\"1\" class=\"dataframe\">\n",
       "  <thead>\n",
       "    <tr style=\"text-align: right;\">\n",
       "      <th></th>\n",
       "      <th>generation</th>\n",
       "      <th>value</th>\n",
       "    </tr>\n",
       "  </thead>\n",
       "  <tbody>\n",
       "    <tr>\n",
       "      <th>95</th>\n",
       "      <td>10000</td>\n",
       "      <td>0.757073</td>\n",
       "    </tr>\n",
       "    <tr>\n",
       "      <th>96</th>\n",
       "      <td>20000</td>\n",
       "      <td>0.599978</td>\n",
       "    </tr>\n",
       "    <tr>\n",
       "      <th>97</th>\n",
       "      <td>30000</td>\n",
       "      <td>1.004095</td>\n",
       "    </tr>\n",
       "    <tr>\n",
       "      <th>98</th>\n",
       "      <td>40000</td>\n",
       "      <td>0.912439</td>\n",
       "    </tr>\n",
       "    <tr>\n",
       "      <th>99</th>\n",
       "      <td>50000</td>\n",
       "      <td>0.946118</td>\n",
       "    </tr>\n",
       "  </tbody>\n",
       "</table>\n",
       "</div>"
      ],
      "text/plain": [
       "    generation     value\n",
       "95       10000  0.757073\n",
       "96       20000  0.599978\n",
       "97       30000  1.004095\n",
       "98       40000  0.912439\n",
       "99       50000  0.946118"
      ]
     },
     "execution_count": 29,
     "metadata": {},
     "output_type": "execute_result"
    }
   ],
   "source": [
    "finals.tail()"
   ]
  },
  {
   "cell_type": "code",
   "execution_count": 30,
   "metadata": {
    "collapsed": false
   },
   "outputs": [
    {
     "data": {
      "text/plain": [
       "<matplotlib.axes._subplots.AxesSubplot at 0x10a7b1110>"
      ]
     },
     "execution_count": 30,
     "metadata": {},
     "output_type": "execute_result"
    },
    {
     "data": {
      "image/png": "[encoded data removed]",
      "text/plain": [
       "<matplotlib.figure.Figure at 0x10b06cd50>"
      ]
     },
     "metadata": {},
     "output_type": "display_data"
    }
   ],
   "source": [
    "finals.boxplot(column='value',by='generation')"
   ]
  },
  {
   "cell_type": "code",
   "execution_count": null,
   "metadata": {
    "collapsed": true
   },
   "outputs": [],
   "source": []
  }
 ],
 "metadata": {
  "kernelspec": {
   "display_name": "Python 2",
   "language": "python",
   "name": "python2"
  },
  "language_info": {
   "codemirror_mode": {
    "name": "ipython",
    "version": 2
   },
   "file_extension": ".py",
   "mimetype": "text/x-python",
   "name": "python",
   "nbconvert_exporter": "python",
   "pygments_lexer": "ipython2",
   "version": "2.7.10"
  }
 },
 "nbformat": 4,
 "nbformat_minor": 0
}
